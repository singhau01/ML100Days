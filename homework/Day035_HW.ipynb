{
 "cells": [
  {
   "cell_type": "markdown",
   "metadata": {},
   "source": [
    "# 加速：多線程爬蟲\n",
    "\n",
    "\n",
    "\n",
    "* 了解知乎 API 使用方式與回傳內容\n",
    "* 撰寫程式存取 API 且添加標頭"
   ]
  },
  {
   "cell_type": "markdown",
   "metadata": {},
   "source": [
    "## 作業目標\n",
    "\n",
    "* 找一個之前實作過的爬蟲改用多線程改寫，比較前後時間的差異。\n",
    "\n",
    "\n",
    "\n"
   ]
  },
  {
   "cell_type": "markdown",
   "metadata": {},
   "source": [
    "# 以Day034作為範例\n",
    "* "
   ]
  },
  {
   "cell_type": "code",
   "execution_count": 9,
   "metadata": {},
   "outputs": [],
   "source": [
    "from bs4 import BeautifulSoup\n",
    "import requests\n",
    "import random\n",
    "import _thread\n",
    "import time"
   ]
  },
  {
   "cell_type": "code",
   "execution_count": null,
   "metadata": {},
   "outputs": [],
   "source": []
  },
  {
   "cell_type": "code",
   "execution_count": 13,
   "metadata": {},
   "outputs": [],
   "source": [
    "from selenium import webdriver\n",
    "from selenium.webdriver.common.keys import Keys\n",
    "url = 'https://free-proxy-list.net/'\n",
    "browser = webdriver.Chrome()\n",
    "browser.get(url) "
   ]
  },
  {
   "cell_type": "code",
   "execution_count": 14,
   "metadata": {},
   "outputs": [],
   "source": [
    "html = browser.page_source\n",
    "soup = BeautifulSoup(html, \"lxml\")\n",
    "# soup.prettify\n",
    "browser.close()"
   ]
  },
  {
   "cell_type": "code",
   "execution_count": 16,
   "metadata": {},
   "outputs": [],
   "source": [
    "proxy_ips = []\n",
    "proxy_list = soup.find('tbody').find_all('tr')\n",
    "for proxy in proxy_list:\n",
    "    if proxy.find('td') != None:\n",
    "        # print(proxy.find('td').text)\n",
    "        proxy = proxy.find_all('td')[0].text + ':' + proxy.find_all('td')[1].text \n",
    "        proxy_ips.append(proxy)\n",
    "# print(proxy_ips)"
   ]
  },
  {
   "cell_type": "code",
   "execution_count": 18,
   "metadata": {},
   "outputs": [
    {
     "name": "stdout",
     "output_type": "stream",
     "text": [
      "Use 193.117.138.126:44805\n",
      "Fail\n",
      "Use 46.249.123.148:80\n",
      "Fail\n",
      "Use 167.71.5.83:8080\n",
      "Your IP address: 167.71.5.83\n",
      "Use 181.205.41.210:7654\n",
      "Fail\n",
      "Use 180.87.102.69:80\n",
      "Your IP address: 180.87.102.69\n",
      "Use 209.97.150.167:8080\n",
      "Your IP address: 209.97.150.167\n",
      "Use 103.109.58.54:8080\n",
      "Fail\n",
      "Use 162.144.220.192:80\n",
      "Fail\n",
      "Use 175.106.18.201:38708\n",
      "Fail\n",
      "Use 103.109.59.242:53281\n",
      "Fail\n",
      "\n",
      "所花時間：74.52718567848206\n"
     ]
    }
   ],
   "source": [
    "startTime = time.time()\n",
    "\n",
    "for i in range(10):\n",
    "    ip = random.choice(proxy_ips)\n",
    "    print('Use', ip)\n",
    "    try:\n",
    "        resp = requests.get('http://ip.filefab.com/index.php',\n",
    "                        proxies={'http': ip, 'https': ip}, timeout=10)\n",
    "        soup = BeautifulSoup(resp.text, 'html5lib')\n",
    "        print(soup.find('h1', id='ipd').text.strip())\n",
    "    except:\n",
    "        print('Fail')\n",
    "finishTime = time.time()\n",
    "print()\n",
    "print('所花時間：{}'.format(finishTime - startTime))"
   ]
  },
  {
   "cell_type": "code",
   "execution_count": 56,
   "metadata": {},
   "outputs": [
    {
     "name": "stdout",
     "output_type": "stream",
     "text": [
      "所花時間：0.000997304916381836\n",
      "Use 192.109.165.98:80\n",
      "Your IP address: 192.109.165.98\n",
      "Use 176.9.119.170:8080\n",
      "Your IP address: 176.9.119.170\n",
      "Use 189.240.60.164:8080\n",
      "Your IP address: 189.240.60.168\n",
      "Use 200.25.254.193:54240\n",
      "Fail\n",
      "Use 136.228.141.154:80\n",
      "Your IP address: 136.228.141.154\n",
      "Use 124.122.166.165:8213\n",
      "Fail\n",
      "Use 188.163.170.130:41209\n",
      "Fail\n",
      "Use 213.81.218.225:8080\n",
      "Fail\n",
      "Use 195.74.72.129:37213\n",
      "Fail\n",
      "Use 200.69.80.242:8080\n",
      "Fail\n"
     ]
    }
   ],
   "source": [
    "startTime = time.time()\n",
    "\n",
    "lst = []\n",
    "def print_result():\n",
    "    ip = random.choice(proxy_ips)\n",
    "    try:\n",
    "        resp = requests.get('http://ip.filefab.com/index.php',\n",
    "                            proxies={'http': ip, 'https': ip}, timeout=10)\n",
    "        soup = BeautifulSoup(resp.text, 'html5lib')\n",
    "        result = soup.find('h1', id='ipd').text.strip()\n",
    "    except:\n",
    "        result = 'Fail'\n",
    "    print('Use', ip)\n",
    "    print(result)\n",
    "\n",
    "for i in range(10):\n",
    "    _thread.start_new_thread(print_result,())\n",
    "    \n",
    "        \n",
    "finishTime = time.time()\n",
    "print('所花時間：{}'.format(finishTime - startTime))"
   ]
  }
 ],
 "metadata": {
  "colab": {
   "name": "homework.ipynb",
   "provenance": []
  },
  "kernelspec": {
   "display_name": "Python 3",
   "language": "python",
   "name": "python3"
  },
  "language_info": {
   "codemirror_mode": {
    "name": "ipython",
    "version": 3
   },
   "file_extension": ".py",
   "mimetype": "text/x-python",
   "name": "python",
   "nbconvert_exporter": "python",
   "pygments_lexer": "ipython3",
   "version": "3.8.8"
  }
 },
 "nbformat": 4,
 "nbformat_minor": 1
}
