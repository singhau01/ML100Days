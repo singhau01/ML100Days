{
 "cells": [
  {
   "cell_type": "markdown",
   "metadata": {},
   "source": [
    "# PTT 網路爬蟲實作練習\n",
    "\n",
    "\n",
    "* 能夠利用 Request + BeatifulSour 撰寫爬蟲，並存放到合適的資料結構\n"
   ]
  },
  {
   "cell_type": "markdown",
   "metadata": {},
   "source": [
    "## 作業目標\n",
    "\n",
    "根據範例 ，完成以下問題：\n",
    "\n",
    "* ① 印出最新文章的「作者」「標題」「時間」\n",
    "* ② 印出第一頁所有文章的「作者」「標題」「時間」\n"
   ]
  },
  {
   "cell_type": "markdown",
   "metadata": {},
   "source": [
    "### ① 印出最新文章的「作者」「標題」「時間」"
   ]
  },
  {
   "cell_type": "code",
   "execution_count": 48,
   "metadata": {},
   "outputs": [],
   "source": [
    "import requests as rq\n",
    "from bs4 import BeautifulSoup\n",
    "\n",
    "url = 'https://www.ptt.cc/bbs/NBA/index.html'\n",
    "r = rq.get(url)\n",
    "\n",
    "soup = BeautifulSoup(r.text, \"html5lib\")"
   ]
  },
  {
   "cell_type": "code",
   "execution_count": 55,
   "metadata": {},
   "outputs": [
    {
     "name": "stdout",
     "output_type": "stream",
     "text": [
      "最新文章\n",
      "作者：timmyen\n",
      "標題：[外絮] Nerlens Noel狀告富保羅\n",
      "時間： 8/25\n"
     ]
    }
   ],
   "source": [
    "print(\"最新文章\")\n",
    "print(\"作者：{}\".format(soup.find(class_='author').text))\n",
    "print(\"標題：{}\".format(soup.find(class_='title').text).replace('\\t', '').replace('\\n', ''))\n",
    "print(\"時間：{}\".format(soup.find(class_= 'date').text))"
   ]
  },
  {
   "cell_type": "markdown",
   "metadata": {},
   "source": [
    "### ② 印出第一頁所有文章的「作者」「標題」「時間」"
   ]
  },
  {
   "cell_type": "code",
   "execution_count": 54,
   "metadata": {},
   "outputs": [
    {
     "data": {
      "text/html": [
       "<style  type=\"text/css\" >\n",
       "    #T_2be69_ th {\n",
       "          text-align: left;\n",
       "    }#T_2be69_row0_col0,#T_2be69_row0_col1,#T_2be69_row0_col2,#T_2be69_row1_col0,#T_2be69_row1_col1,#T_2be69_row1_col2,#T_2be69_row2_col0,#T_2be69_row2_col1,#T_2be69_row2_col2,#T_2be69_row3_col0,#T_2be69_row3_col1,#T_2be69_row3_col2,#T_2be69_row4_col0,#T_2be69_row4_col1,#T_2be69_row4_col2,#T_2be69_row5_col0,#T_2be69_row5_col1,#T_2be69_row5_col2,#T_2be69_row6_col0,#T_2be69_row6_col1,#T_2be69_row6_col2{\n",
       "            text-align:  left;\n",
       "        }</style><table id=\"T_2be69_\" ><thead>    <tr>        <th class=\"blank level0\" ></th>        <th class=\"col_heading level0 col0\" >作者</th>        <th class=\"col_heading level0 col1\" >標題</th>        <th class=\"col_heading level0 col2\" >時間</th>    </tr></thead><tbody>\n",
       "                <tr>\n",
       "                        <th id=\"T_2be69_level0_row0\" class=\"row_heading level0 row0\" >1</th>\n",
       "                        <td id=\"T_2be69_row0_col0\" class=\"data row0 col0\" >timmyen</td>\n",
       "                        <td id=\"T_2be69_row0_col1\" class=\"data row0 col1\" >[外絮] Nerlens Noel狀告富保羅</td>\n",
       "                        <td id=\"T_2be69_row0_col2\" class=\"data row0 col2\" > 8/25</td>\n",
       "            </tr>\n",
       "            <tr>\n",
       "                        <th id=\"T_2be69_level0_row1\" class=\"row_heading level0 row1\" >2</th>\n",
       "                        <td id=\"T_2be69_row1_col0\" class=\"data row1 col0\" >ssshleo</td>\n",
       "                        <td id=\"T_2be69_row1_col1\" class=\"data row1 col1\" >[情報] Mike Budenholzer續約</td>\n",
       "                        <td id=\"T_2be69_row1_col2\" class=\"data row1 col2\" > 8/25</td>\n",
       "            </tr>\n",
       "            <tr>\n",
       "                        <th id=\"T_2be69_level0_row2\" class=\"row_heading level0 row2\" >3</th>\n",
       "                        <td id=\"T_2be69_row2_col0\" class=\"data row2 col0\" >Induction</td>\n",
       "                        <td id=\"T_2be69_row2_col1\" class=\"data row2 col1\" >[公告] 板規v8.5</td>\n",
       "                        <td id=\"T_2be69_row2_col2\" class=\"data row2 col2\" > 6/09</td>\n",
       "            </tr>\n",
       "            <tr>\n",
       "                        <th id=\"T_2be69_level0_row3\" class=\"row_heading level0 row3\" >4</th>\n",
       "                        <td id=\"T_2be69_row3_col0\" class=\"data row3 col0\" >Vedan</td>\n",
       "                        <td id=\"T_2be69_row3_col1\" class=\"data row3 col1\" >[公告] NBA板救濟專案啟動 & 借用板主位置</td>\n",
       "                        <td id=\"T_2be69_row3_col2\" class=\"data row3 col2\" > 7/22</td>\n",
       "            </tr>\n",
       "            <tr>\n",
       "                        <th id=\"T_2be69_level0_row4\" class=\"row_heading level0 row4\" >5</th>\n",
       "                        <td id=\"T_2be69_row4_col0\" class=\"data row4 col0\" >laigei</td>\n",
       "                        <td id=\"T_2be69_row4_col1\" class=\"data row4 col1\" >[情報] 2021-22 自由市場 開市總整理   (8/23)</td>\n",
       "                        <td id=\"T_2be69_row4_col2\" class=\"data row4 col2\" > 7/28</td>\n",
       "            </tr>\n",
       "            <tr>\n",
       "                        <th id=\"T_2be69_level0_row5\" class=\"row_heading level0 row5\" >6</th>\n",
       "                        <td id=\"T_2be69_row5_col0\" class=\"data row5 col0\" >laigei</td>\n",
       "                        <td id=\"T_2be69_row5_col1\" class=\"data row5 col1\" >[情報] 2021-22 自由市場 球隊異動表格 (8/23)</td>\n",
       "                        <td id=\"T_2be69_row5_col2\" class=\"data row5 col2\" > 7/30</td>\n",
       "            </tr>\n",
       "            <tr>\n",
       "                        <th id=\"T_2be69_level0_row6\" class=\"row_heading level0 row6\" >7</th>\n",
       "                        <td id=\"T_2be69_row6_col0\" class=\"data row6 col0\" >Induction</td>\n",
       "                        <td id=\"T_2be69_row6_col1\" class=\"data row6 col1\" >[公告] 板主徵選開始</td>\n",
       "                        <td id=\"T_2be69_row6_col2\" class=\"data row6 col2\" > 8/25</td>\n",
       "            </tr>\n",
       "    </tbody></table>"
      ],
      "text/plain": [
       "<pandas.io.formats.style.Styler at 0x26b70f62fa0>"
      ]
     },
     "execution_count": 54,
     "metadata": {},
     "output_type": "execute_result"
    }
   ],
   "source": [
    "data = {'作者':[], '標題':[], '時間':[]}\n",
    "import pandas as pd\n",
    "\n",
    "for d in soup.find_all(class_=\"author\"): \n",
    "    data['作者'].append(d.text)\n",
    "    \n",
    "for d in soup.find_all(class_=\"title\"):\n",
    "    data['標題'].append(d.text.replace('\\t', '').replace('\\n', ''))\n",
    "    \n",
    "for d in soup.find_all(class_=\"date\"): \n",
    "    data['時間'].append(d.text)\n",
    "\n",
    "\n",
    "df = pd.DataFrame(data, index = [i for i in range(1, len(data['作者'])+1)])\n",
    "df = df.style.set_properties(**{'text-align': 'left'})\n",
    "df = df.set_table_styles([dict(selector = 'th', props=[('text-align', 'left')])])\n",
    "df"
   ]
  },
  {
   "cell_type": "markdown",
   "metadata": {},
   "source": [
    "### ③ 試著爬爬看其他版的文章"
   ]
  },
  {
   "cell_type": "code",
   "execution_count": 60,
   "metadata": {},
   "outputs": [
    {
     "name": "stdout",
     "output_type": "stream",
     "text": [
      "[評價] 109-2 張宇衛 甲骨文概說\n",
      "[評價] 108-1 楊裕隆 室內五人制足球\n",
      "[評價] 109-2 陳儀 個體經濟學\n",
      "[問題] 陳虹諺教授應用多變數統計方法評價\n",
      "[評價] 109-2 楊立偉-大數據與商業分析\n",
      "[問題] 李豔榕教授會計學甲一上評價\n",
      "[問題] 陳樂知老師  西洋宗教哲學  評價\n",
      "[問題]西班牙文 鮑曉鷗老師\n",
      "[評價] 109-2 蕭旭府 大學國文：文學鑑賞與寫作\n",
      "[問題] 莊曜宇 生物晶片技術概論 評價\n",
      "[評價] 109-2 王秀槐 課程發展與設計\n",
      "[評價] 109-2 符碧真 教育實踐課程一_中學服務\n",
      "[評價] 109-2 符碧真 教育實踐課程一_中學服務\n",
      "[評價] 109-2 許育萍 教學原理\n",
      "[評價] 109-2 洪承宇 班級經營\n",
      "[評價] 109-2 徐式寬 教育心理學\n",
      "[評價] 109-2 王秀槐 輔導原理與實務\n",
      "[徵求] 徵求課程之筆記文章、錄音檔\n",
      "[整理] 常見Q&A 發文前必看\n",
      "[公告] NTUCourse板板規 (2010.07.18更新)\n",
      "[公告] 請勿公開販售課程授權碼(2020.09.23置底)\n"
     ]
    }
   ],
   "source": [
    "url = 'https://www.ptt.cc/bbs/NTUcourse/index.html'\n",
    "r1 = rq.get(url)\n",
    "\n",
    "soup1 = BeautifulSoup(r1.text, \"html5lib\")\n",
    "\n",
    "for d in soup1.find_all(class_=\"title\"):\n",
    "    print(d.text.replace('\\t', '').replace('\\n', ''))"
   ]
  }
 ],
 "metadata": {
  "kernelspec": {
   "display_name": "Python 3",
   "language": "python",
   "name": "python3"
  },
  "language_info": {
   "codemirror_mode": {
    "name": "ipython",
    "version": 3
   },
   "file_extension": ".py",
   "mimetype": "text/x-python",
   "name": "python",
   "nbconvert_exporter": "python",
   "pygments_lexer": "ipython3",
   "version": "3.8.8"
  }
 },
 "nbformat": 4,
 "nbformat_minor": 2
}
