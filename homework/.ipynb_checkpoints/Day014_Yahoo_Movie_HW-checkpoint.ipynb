{
 "cells": [
  {
   "cell_type": "markdown",
   "metadata": {},
   "source": [
    "# YAHOO電影爬蟲練習\n",
    "## 練習爬取電影放映資訊。必須逐步獲取電影的代號、放映地區、放映日期後，再送出查詢給伺服器。"
   ]
  },
  {
   "cell_type": "code",
   "execution_count": 30,
   "metadata": {},
   "outputs": [],
   "source": [
    "import requests\n",
    "import re\n",
    "from bs4 import BeautifulSoup"
   ]
  },
  {
   "cell_type": "markdown",
   "metadata": {},
   "source": [
    "### 先搜尋全部的電影代號(ID)資訊"
   ]
  },
  {
   "cell_type": "code",
   "execution_count": 31,
   "metadata": {},
   "outputs": [
    {
     "name": "stdout",
     "output_type": "stream",
     "text": [
      "Movie: 鬼門, ID: 11463\n",
      "Movie: 薩滿, ID: 11454\n",
      "Movie: 詐製片家, ID: 11395\n",
      "Movie: 噤界II, ID: 10435\n",
      "Movie: 裸體午餐, ID: 11466\n",
      "Movie: 超速性追緝, ID: 11465\n",
      "Movie: 咒術屍戰, ID: 11453\n",
      "Movie: 凝視瑪莉娜2, ID: 11446\n",
      "Movie: 哭泣的憂羅娜, ID: 11443\n",
      "Movie: 摯愛之路, ID: 11440\n",
      "Movie: 銀河騎士傳 織愛之星, ID: 11418\n",
      "Movie: 暫時停止呼吸2, ID: 11417\n",
      "Movie: 三島由紀夫vs東大全共鬪, ID: 11412\n",
      "Movie: 期末考, ID: 11273\n",
      "Movie: 追憶人, ID: 11410\n",
      "Movie: 未來之書, ID: 11433\n",
      "Movie: 感動她77次, ID: 11394\n",
      "Movie: 被偷走的童年, ID: 11351\n",
      "Movie: 脫稿玩家, ID: 11445\n",
      "Movie: 玩命關頭9, ID: 10482\n",
      "Movie: 人聲, ID: 11400\n",
      "Movie: 薄荷糖, ID: 11368\n",
      "Movie: 路卡的夏天, ID: 11268\n",
      "Movie: 自殺突擊隊：集結, ID: 11328\n",
      "Movie: 罪之聲, ID: 11420\n",
      "Movie: 詭老, ID: 11409\n",
      "Movie: 小王子公主心, ID: 11389\n",
      "Movie: 叢林奇航, ID: 10315\n",
      "Movie: 厲陰宅3：是惡魔逼我的, ID: 11376\n",
      "Movie: 花束般的戀愛, ID: 11391\n",
      "Movie: 貝加爾湖隱居札記：在這喧囂的世界，一個人到西伯利亞森林住半年, ID: 11375\n",
      "Movie: 怪物奇兵 全新世代, ID: 11342\n",
      "Movie: 韓國校園恐怖怪談：點名沒到的學生, ID: 11426\n",
      "Movie: 燕尾蝶：數位經典版, ID: 11332\n",
      "Movie: 黑寡婦, ID: 10397\n",
      "Movie: 名偵探柯南：緋色的彈丸, ID: 11206\n",
      "Movie: 人生檔案求刪除, ID: 11343\n",
      "Movie: 一級任務, ID: 11346\n",
      "Movie: 永生戰, ID: 11073\n",
      "Movie: 私刑救援, ID: 11263\n",
      "Movie: 真人快打, ID: 11254\n",
      "Movie: 誰殺了大個子, ID: 11296\n",
      "Movie: 警慌失措, ID: 11295\n",
      "Movie: 無名弒, ID: 11126\n",
      "Movie: 哥吉拉大戰金剛, ID: 11215\n",
      "Movie: 游牧人生, ID: 11221\n",
      "Movie: 愛情瞎攪禍, ID: 11218\n",
      "Movie: 今天決定我愛你, ID: 11241\n",
      "Movie: 花漾女子, ID: 10519\n",
      "Movie: 醉好的時光, ID: 11223\n",
      "Movie: 尋龍使者：拉雅, ID: 11219\n",
      "Movie: 噪反, ID: 11169\n",
      "Movie: 刺殺小說家, ID: 11205\n",
      "Movie: 湯姆貓與傑利鼠, ID: 11072\n",
      "Movie: 靈魂急轉彎, ID: 11089\n",
      "Movie: 燃燒烈愛, ID: 8220\n"
     ]
    }
   ],
   "source": [
    "# 查看目前上映那些電影，並擷取出其ID資訊\n",
    "url = 'https://movies.yahoo.com.tw/'\n",
    "resp = requests.get(url)\n",
    "resp.encoding = 'utf-8'\n",
    "\n",
    "soup = BeautifulSoup(resp.text, 'lxml')\n",
    "html = soup.find(\"select\", attrs={'name':'movie_id'})\n",
    "movie_item = html.find_all(\"option\", attrs={'data-name':re.compile('.*')})\n",
    "\n",
    "for p in movie_item:\n",
    "    print(\"Movie: %s, ID: %s\" % (p[\"data-name\"], p[\"value\"]))"
   ]
  },
  {
   "cell_type": "markdown",
   "metadata": {},
   "source": [
    "### 指定你有興趣的電影其ID，然後查詢其放映地區資訊。"
   ]
  },
  {
   "cell_type": "code",
   "execution_count": 32,
   "metadata": {},
   "outputs": [],
   "source": [
    "# 參考前一個步驟中擷取到的ID資訊，並指定ID\n",
    "movie_id = 10169"
   ]
  },
  {
   "cell_type": "code",
   "execution_count": 33,
   "metadata": {},
   "outputs": [],
   "source": [
    "url = 'https://movies.yahoo.com.tw/api/v1/areas_by_movie_theater'\n",
    "payload = {'movie_id':str(movie_id)}\n",
    "\n",
    "# 模擬一個header\n",
    "headers = {\n",
    "    'authority': 'movies.yahoo.com.tw',\n",
    "    'method': 'GET',\n",
    "    'path': '/api/v1/areas_by_movie_theater?movie_id=' + str(movie_id),\n",
    "    'scheme': 'https',\n",
    "    'accept': 'application/json, text/javascript, */*; q=0.01',\n",
    "    'accept-encoding': 'gzip, deflate, br',\n",
    "    'accept-language': 'zh-TW,zh;q=0.9,en-US;q=0.8,en;q=0.7,zh-CN;q=0.6',\n",
    "    'cookie': 'rxx=9s3x2fws06.1g16irnc&v=1; _ga=GA1.3.2056742944.1551651301; GUC=AQEBAQFczFpdm0IfmwSB&s=AQAAACoo4N5D&g=XMsVBw; BX=4hkdk1decm57t&b=3&s=mr; _ga=GA1.4.2056742944.1551651301; nexagesuid=82843256dd234e8e91aa73f2062f8218; browsed_movie=eyJpdiI6IlJXWWtiSWJaZlNGK2MxQnhscnVUYWc9PSIsInZhbHVlIjoiMXRhMmVHRXRIeUNjc1RBWDJzdGYwbnlIQURmWGsrcjJSMzhkbkcraDNJVUNIZEZsbzU3amlFcVZ1NzlmazJrTGpoMjVrbHk1YmpoRENXaHZTOUw1TmI2ZTZVWHdOejZQZm16RmVuMWlHTTJLaTZLVFZZVkFOMDlTd1wvSGltcytJIiwibWFjIjoiZWQ2ZjA4MmVjZmZlYjlmNjJmYmY2NGMyMDI0Njc0NWViYjVkOWE2NDg0N2RhODMxZjBjZDhiMmJhZTc2MDZhYiJ9; avi=eyJpdiI6Im1NeWFJRlVRWDR1endEcGRGUGJUbVE9PSIsInZhbHVlIjoickRpU3JuUytmcGl6cjF5OW0rNU9iZz09IiwibWFjIjoiY2VmY2NkNzZmM2NhNjY5YzlkOTcyNjE5OGEyMzU0NWYxOTdmMDRkMDY3OWNmMmZjOTMxYjc5MjI5N2Q5NGE5MiJ9; cmp=t=1559391030&j=0; _gid=GA1.4.779543841.1559391031; XSRF-TOKEN=eyJpdiI6IkhpS2hGcDRQaHlmWUJmaHdSS2Q2bHc9PSIsInZhbHVlIjoiOUVoNFk4OHI1UUZmUWRtYXhza0MyWjJSTlhlZ3RnT0VGeVJPN2JuczVRMGRFdWt2OUlsamVKeHRobFwvcHBGM0dhU3VyMXNGTHlsb2dVM2l0U1hpUGxBPT0iLCJtYWMiOiJkZWU4YzJhNjAxMTY3MzE4Y2ExNWIxYmE1ZjE1YWZlZTlhOTcyYjc4M2RlZGY4ZWNjZDYyMTA2NGYwZGViMzc2In0%3D; m_s=eyJpdiI6InpsZHZ2Tk1BZ0dxaHhETml1RjBnUXc9PSIsInZhbHVlIjoiSkNGeHUranRoXC85bDFiaDhySTJqNkJRcWdjWUxjeVRJSHVYZ1wvd2d4bWJZUTUrSHVDM0lUcW5KNHdETFZ4T1lieU81OUhzc1VoUXhZcWk0UDZSQXVFdz09IiwibWFjIjoiYmJkMDJkMDhlODIzMzcyMWY4M2NmYWNjNGVlOWRjMDIwZmVmNzAyMjE3Yzg3ZGY3ODBkZWEzZTI4MTI5ZWNmOSJ9; _gat=1; nexagesd=10',\n",
    "    'dnt': '1',\n",
    "    'mv-authorization': '21835b082e15b91a69b3851eec7b31b82ce82afb',\n",
    "    'referer': 'https://movies.yahoo.com.tw/',\n",
    "    'user-agent': 'Mozilla/5.0 (Windows NT 10.0; Win64; x64) AppleWebKit/537.36 (KHTML, like Gecko) Chrome/74.0.3729.169 Safari/537.36',\n",
    "    'x-requested-with': 'XMLHttpRequest',\n",
    "}\n",
    "    \n",
    "resp = requests.get(url, params=payload, headers=headers)\n",
    "#print(resp.json())  # 若有需要，列印出json原始碼\n",
    "\n",
    "# 這裡回傳的格式是JSON格式的資料，要解析JSON擷取資料\n",
    "for p in resp.json():\n",
    "    print('放映地區: {0}, 代號(area_id): {1}'.format(p['title'], p['area_id']))"
   ]
  },
  {
   "cell_type": "markdown",
   "metadata": {},
   "source": [
    "### 指定你想要觀看的放映地區，查詢有上映電影的場次日期"
   ]
  },
  {
   "cell_type": "code",
   "execution_count": 34,
   "metadata": {},
   "outputs": [],
   "source": [
    "# 指定放映地區\n",
    "area_id = 28"
   ]
  },
  {
   "cell_type": "code",
   "execution_count": 35,
   "metadata": {},
   "outputs": [
    {
     "name": "stdout",
     "output_type": "stream",
     "text": [
      "八月 25\n",
      "八月 26\n",
      "八月 27\n",
      "八月 28\n",
      "八月 29\n"
     ]
    }
   ],
   "source": [
    "# 向網站發送請求\n",
    "url = 'https://movies.yahoo.com.tw/movietime_result.html'\n",
    "payload = {'movie_id':str(movie_id), 'area_id':str(area_id)}\n",
    "resp = requests.get(url, params=payload)\n",
    "resp.encoding = 'utf-8'\n",
    "\n",
    "soup = BeautifulSoup(resp.text, 'lxml')\n",
    "movie_date = soup.find_all(\"label\", attrs={'for':re.compile(\"date_[\\d]\")})\n",
    "\n",
    "# 列印播放日期\n",
    "for date in movie_date:\n",
    "    print(\"%s %s\" % (date.p.string, date.h3.string))"
   ]
  },
  {
   "cell_type": "markdown",
   "metadata": {},
   "source": [
    "### 最後指定觀看的日期，查詢並列印出放映的電影院、放映類型(數位、3D、IMAX 3D...)、放映時間等資訊。"
   ]
  },
  {
   "cell_type": "code",
   "execution_count": 36,
   "metadata": {},
   "outputs": [],
   "source": [
    "# 選定要觀看的日期\n",
    "date = \"2019-08-21\""
   ]
  },
  {
   "cell_type": "code",
   "execution_count": 37,
   "metadata": {},
   "outputs": [],
   "source": [
    "# 向網站發送請求，獲取上映的電影院及時間資訊\n",
    "url = \"https://movies.yahoo.com.tw/ajax/pc/get_schedule_by_movie\"\n",
    "payload = {'movie_id':str(movie_id),\n",
    "           'date':date,\n",
    "           'area_id':str(area_id),\n",
    "           'theater_id':'',\n",
    "           'datetime':'',\n",
    "           'movie_type_id':''}\n",
    "\n",
    "resp = requests.get(url, params=payload)\n",
    "#print(resp.json()['view'])  # 若有需要，列印出json原始碼\n",
    "\n",
    "soup = BeautifulSoup(resp.json()['view'], 'lxml')\n",
    "html = soup.find_all(\"ul\", attrs={'data-theater_name':re.compile(\".*\")})"
   ]
  },
  {
   "cell_type": "code",
   "execution_count": 43,
   "metadata": {},
   "outputs": [],
   "source": [
    "for movie_theater in html:\n",
    "    print(\"----------------------------------------------------------------------\")\n",
    "    \n",
    "    theater_name = movie_theater.find(\"li\", attrs={'class':'adds'})\n",
    "    print(\"電影院： {}\".format(theater_name.a.string))\n",
    "    \n",
    "    project_type = movie_theater.find_all(\"li\", attrs={'class':'taps'})\n",
    "    \n",
    "    time_table = movie_theater.find_all(\"li\", attrs={'class':'time _c'})\n",
    "    \n",
    "    for i in range(len(project_type)):\n",
    "        print(\"放映類型 {}\".format(project_type[i].span.get_text()))\n",
    "        \n",
    "        for p4 in time_table[i].find_all(\"input\", attrs={'name':'schedule_list'}):\n",
    "            print(\"\".format(p4[\"value\"]))\n",
    "    \n"
   ]
  }
 ],
 "metadata": {
  "kernelspec": {
   "display_name": "Python 3",
   "language": "python",
   "name": "python3"
  },
  "language_info": {
   "codemirror_mode": {
    "name": "ipython",
    "version": 3
   },
   "file_extension": ".py",
   "mimetype": "text/x-python",
   "name": "python",
   "nbconvert_exporter": "python",
   "pygments_lexer": "ipython3",
   "version": "3.8.8"
  }
 },
 "nbformat": 4,
 "nbformat_minor": 2
}
