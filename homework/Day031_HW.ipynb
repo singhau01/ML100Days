{
 "cells": [
  {
   "cell_type": "markdown",
   "metadata": {},
   "source": [
    "# 反爬：瀏覽器標頭與基本資訊\n",
    "\n",
    "\n",
    "* 了解「檢查 HTTP 標頭檔」的反爬蟲機制\n",
    "* 「檢查 HTTP 標頭檔」反爬蟲的因應策略\n"
   ]
  },
  {
   "cell_type": "markdown",
   "metadata": {},
   "source": [
    "## 作業目標\n",
    "\n",
    "* 尋找一個網站是有作 Header 檢查的（Hint: 有加跟沒有加回傳結果不一樣）\n",
    "* 用上述網站說明該如何判斷 Header 中必須加上哪些資料才會正確\n"
   ]
  },
  {
   "cell_type": "markdown",
   "metadata": {},
   "source": [
    "### 尋找一個網站是有作 Header 檢查的（Hint: 有加跟沒有加回傳結果不一樣）"
   ]
  },
  {
   "cell_type": "code",
   "execution_count": 13,
   "metadata": {},
   "outputs": [
    {
     "data": {
      "text/plain": [
       "'{\"bff_meta\":null,\"data\":{\"variate_configs\":[{\"signature\":\"sch.ET\",\"signature_sequence\":2,\"variate\":null,\"value\":null},{\"signature\":\"ls.FL\",\"signature_sequence\":1,\"variate\":null,\"value\":null},{\"signature\":\"sch.GQ\",\"signature_sequence\":0,\"variate\":null,\"value\":null},{\"signature\":\"sch.IN\",\"signature_sequence\":0,\"variate\":null,\"value\":null},{\"signature\":\"sch.ER\",\"signature_sequence\":0,\"variate\":null,\"value\":null},{\"signature\":\"sch.EM\",\"signature_sequence\":0,\"variate\":null,\"value\":null},{\"signature\":\"bi.IE\",\"signature_sequence\":1,\"variate\":null,\"value\":null},{\"signature\":\"sch.DT\",\"signature_sequence\":0,\"variate\":null,\"value\":null},{\"signature\":\"dp.DJ\",\"signature_sequence\":0,\"variate\":null,\"value\":null},{\"signature\":\"credit.DN\",\"signature_sequence\":0,\"variate\":null,\"value\":null},{\"signature\":\"sch.GV\",\"signature_sequence\":2,\"variate\":null,\"value\":null},{\"signature\":\"bi.IG\",\"signature_sequence\":1,\"variate\":null,\"value\":null},{\"signature\":\"voucher.GP\",\"signature_sequence\":4,\"variate\":null,\"value\":null},{\"signature\":\"bot.KH\",\"signature_sequence\":2,\"variate\":null,\"value\":null},{\"signature\":\"sch.EZ\",\"signature_sequence\":0,\"variate\":null,\"value\":null},{\"signature\":\"voucher.ID\",\"signature_sequence\":5,\"variate\":null,\"value\":null},{\"signature\":\"sch.GU\",\"signature_sequence\":0,\"variate\":null,\"value\":null},{\"signature\":\"sch.IC\",\"signature_sequence\":0,\"variate\":null,\"value\":null},{\"signature\":\"sch.EB\",\"signature_sequence\":1,\"variate\":null,\"value\":null},{\"signature\":\"sch.GE\",\"signature_sequence\":0,\"variate\":null,\"value\":null},{\"signature\":\"ls.KB\",\"signature_sequence\":2,\"variate\":null,\"value\":null},{\"signature\":\"bot.GI\",\"signature_sequence\":4,\"variate\":null,\"value\":null},{\"signature\":\"sch.KQ\",\"signature_sequence\":1,\"variate\":null,\"value\":null},{\"signature\":\"fee.BW\",\"signature_sequence\":1,\"variate\":null,\"value\":null},{\"signature\":\"sch.DG\",\"signature_sequence\":1,\"variate\":null,\"value\":null},{\"signature\":\"bi.HP\",\"signature_sequence\":2,\"variate\":null,\"value\":null},{\"signature\":\"bot.GB\",\"signature_sequence\":0,\"variate\":null,\"value\":null},{\"signature\":\"sch.EA\",\"signature_sequence\":10,\"variate\":null,\"value\":null},{\"signature\":\"sch.IP\",\"signature_sequence\":0,\"variate\":null,\"value\":null},{\"signature\":\"sch.GT\",\"signature_sequence\":0,\"variate\":null,\"value\":null},{\"signature\":\"credit.FI\",\"signature_sequence\":0,\"variate\":null,\"value\":null},{\"signature\":\"sch.FR\",\"signature_sequence\":0,\"variate\":null,\"value\":null},{\"signature\":\"sch.KM\",\"signature_sequence\":2,\"variate\":null,\"value\":null},{\"signature\":\"sch.FG\",\"signature_sequence\":0,\"variate\":null,\"value\":null},{\"signature\":\"bi.HN\",\"signature_sequence\":2,\"variate\":null,\"value\":null},{\"signature\":\"dp.GH\",\"signature_sequence\":2,\"variate\":null,\"value\":null},{\"signature\":\"dp.DK\",\"signature_sequence\":1,\"variate\":null,\"value\":null},{\"signature\":\"sch.ES\",\"signature_sequence\":2,\"variate\":null,\"value\":null},{\"signature\":\"sch.EC\",\"signature_sequence\":1,\"variate\":null,\"value\":null},{\"signature\":\"sch.FH\",\"signature_sequence\":5,\"variate\":null,\"value\":null},{\"signature\":\"fee.CB\",\"signature_sequence\":0,\"variate\":null,\"value\":null},{\"signature\":\"ord.GY\",\"signature_sequence\":2,\"variate\":null,\"value\":null},{\"signature\":\"fee.BB\",\"signature_sequence\":0,\"variate\":null,\"value\":null},{\"signature\":\"sch.EV\",\"signature_sequence\":0,\"variate\":null,\"value\":null},{\"signature\":\"fee.AY\",\"signature_sequence\":1,\"variate\":null,\"value\":null},{\"signature\":\"dp.GA\",\"signature_sequence\":0,\"variate\":null,\"value\":null},{\"signature\":\"ls.FJ\",\"signature_sequence\":1,\"variate\":null,\"value\":null},{\"signature\":\"dp.HM\",\"signature_sequence\":2,\"variate\":null,\"value\":null},{\"signature\":\"sch.FM\",\"signature_sequence\":0,\"variate\":null,\"value\":null},{\"signature\":\"bot.HE\",\"signature_sequence\":1,\"variate\":null,\"value\":null},{\"signature\":\"sch.DP\",\"signature_sequence\":4,\"variate\":null,\"value\":null},{\"signature\":\"sch.EP\",\"signature_sequence\":2,\"variate\":null,\"value\":null},{\"signature\":\"sch.DO\",\"signature_sequence\":0,\"variate\":null,\"value\":null},{\"signature\":\"sch.IW\",\"signature_sequence\":0,\"variate\":null,\"value\":null},{\"signature\":\"voucher.IR\",\"signature_sequence\":4,\"variate\":null,\"value\":null},{\"signature\":\"sch.IZ\",\"signature_sequence\":0,\"variate\":null,\"value\":null},{\"signature\":\"bot.FP\",\"signature_sequence\":1,\"variate\":null,\"value\":null},{\"signature\":\"fee.CF\",\"signature_sequence\":0,\"variate\":null,\"value\":null},{\"signature\":\"dp.IH\",\"signature_sequence\":1,\"variate\":null,\"value\":null},{\"signature\":\"sch.GC\",\"signature_sequence\":0,\"variate\":null,\"value\":null},{\"signature\":\"sch.GW\",\"signature_sequence\":0,\"variate\":null,\"value\":null},{\"signature\":\"sch.GF\",\"signature_sequence\":0,\"variate\":null,\"value\":null},{\"signature\":\"sch.KC\",\"signature_sequence\":0,\"variate\":null,\"value\":null},{\"signature\":\"sch.HG\",\"signature_sequence\":3,\"variate\":null,\"value\":null},{\"signature\":\"ord.HA\",\"signature_sequence\":2,\"variate\":null,\"value\":null},{\"signature\":\"sch.GR\",\"signature_sequence\":3,\"variate\":null,\"value\":null},{\"signature\":\"bot.IT\",\"signature_sequence\":2,\"variate\":null,\"value\":null},{\"signature\":\"rcm.GL\",\"signature_sequence\":0,\"variate\":null,\"value\":null},{\"signature\":\"sch.FX\",\"signature_sequence\":4,\"variate\":null,\"value\":null},{\"signature\":\"sch.EI\",\"signature_sequence\":0,\"variate\":null,\"value\":null},{\"signature\":\"voucher.IB\",\"signature_sequence\":8,\"variate\":null,\"value\":null},{\"signature\":\"shopsch.CJ\",\"signature_sequence\":1,\"variate\":null,\"value\":null},{\"signature\":\"sch.HD\",\"signature_sequence\":1,\"variate\":null,\"value\":null},{\"signature\":\"sch.IL\",\"signature_sequence\":0,\"variate\":null,\"value\":null},{\"signature\":\"ads.AQ\",\"signature_sequence\":1,\"variate\":null,\"value\":null},{\"signature\":\"fee.BX\",\"signature_sequence\":1,\"variate\":null,\"value\":null},{\"signature\":\"sch.HJ\",\"signature_sequence\":0,\"variate\":null,\"value\":null},{\"signature\":\"dl.CN\",\"signature_sequence\":2,\"variate\":null,\"value\":null},{\"signature\":\"sch.DY\",\"signature_sequence\":1,\"variate\":null,\"value\":null},{\"signature\":\"fee.BA\",\"signature_sequence\":1,\"variate\":null,\"value\":null},{\"signature\":\"prm.AJ\",\"signature_sequence\":0,\"variate\":null,\"value\":null},{\"signature\":\"sch.JO\",\"signature_sequence\":0,\"variate\":null,\"value\":null},{\"signature\":\"ls.IV\",\"signature_sequence\":1,\"variate\":null,\"value\":null},{\"signature\":\"voucher.CM\",\"signature_sequence\":2,\"variate\":null,\"value\":null},{\"signature\":\"sch.BZ\",\"signature_sequence\":0,\"variate\":null,\"value\":null},{\"signature\":\"sch.GO\",\"signature_sequence\":108,\"variate\":null,\"value\":null},{\"signature\":\"bot.HQ\",\"signature_sequence\":1,\"variate\":null,\"value\":null},{\"signature\":\"rcm.BY\",\"signature_sequence\":0,\"variate\":null,\"value\":null},{\"signature\":\"sch.DV\",\"signature_sequence\":2,\"variate\":null,\"value\":null},{\"signature\":\"sch.EN\",\"signature_sequence\":2,\"variate\":null,\"value\":null},{\"signature\":\"sch.GN\",\"signature_sequence\":0,\"variate\":null,\"value\":null},{\"signature\":\"dp.BS\",\"signature_sequence\":0,\"variate\":null,\"value\":null},{\"signature\":\"ord.DM\",\"signature_sequence\":0,\"variate\":null,\"value\":null},{\"signature\":\"sch.FS\",\"signature_sequence\":0,\"variate\":null,\"value\":null},{\"signature\":\"sch.DZ\",\"signature_sequence\":8,\"variate\":null,\"value\":null},{\"signature\":\"dp.HB\",\"signature_sequence\":1,\"variate\":null,\"value\":null},{\"signature\":\"sch.HH\",\"signature_sequence\":0,\"variate\":null,\"value\":null},{\"signature\":\"sch.FV\",\"signature_sequence\":4,\"variate\":null,\"value\":null},{\"signature\":\"dd.IO\",\"signature_sequence\":0,\"variate\":null,\"value\":null},{\"signature\":\"sch.FY\",\"signature_sequence\":4,\"variate\":null,\"value\":null},{\"signature\":\"bot.HT\",\"signature_sequence\":1,\"variate\":null,\"value\":null},{\"signature\":\"sch.DS\",\"signature_sequence\":1,\"variate\":null,\"value\":null},{\"signature\":\"shopsch.CK\",\"signature_sequence\":1,\"variate\":null,\"value\":null},{\"signature\":\"bot.KI\",\"signature_sequence\":1,\"variate\":null,\"value\":null},{\"signature\":\"prm.AN\",\"signature_sequence\":0,\"variate\":null,\"value\":null},{\"signature\":\"sch.FQ\",\"signature_sequence\":0,\"variate\":null,\"value\":null},{\"signature\":\"bi.HO\",\"signature_sequence\":2,\"variate\":null,\"value\":null},{\"signature\":\"sch.JZ\",\"signature_sequence\":1,\"variate\":null,\"value\":null},{\"signature\":\"sch.EG\",\"signature_sequence\":2,\"variate\":null,\"value\":null},{\"signature\":\"sch.KV\",\"signature_sequence\":0,\"variate\":null,\"value\":null},{\"signature\":\"bot.HS\",\"signature_sequence\":1,\"variate\":null,\"value\":null},{\"signature\":\"sch.CG\",\"signature_sequence\":0,\"variate\":null,\"value\":null},{\"signature\":\"fee.EU\",\"signature_sequence\":1,\"variate\":null,\"value\":null},{\"signature\":\"dp.DR\",\"signature_sequence\":0,\"variate\":null,\"value\":null},{\"signature\":\"bot.KF\",\"signature_sequence\":2,\"variate\":null,\"value\":null},{\"signature\":\"sch.GG\",\"signature_sequence\":0,\"variate\":null,\"value\":null},{\"signature\":\"shopsch.DX\",\"signature_sequence\":18,\"variate\":null,\"value\":null},{\"signature\":\"bot.KG\",\"signature_sequence\":1,\"variate\":null,\"value\":null},{\"signature\":\"sch.HI\",\"signature_sequence\":0,\"variate\":null,\"value\":null},{\"signature\":\"sch.GK\",\"signature_sequence\":0,\"variate\":null,\"value\":null},{\"signature\":\"sch.GD\",\"signature_sequence\":0,\"variate\":null,\"value\":null},{\"signature\":\"sch.FN\",\"signature_sequence\":4,\"variate\":null,\"value\":null},{\"signature\":\"sch.HX\",\"signature_sequence\":0,\"variate\":null,\"value\":null},{\"signature\":\"sch.EH\",\"signature_sequence\":2,\"variate\":null,\"value\":null},{\"signature\":\"sch.IJ\",\"signature_sequence\":0,\"variate\":null,\"value\":null},{\"signature\":\"shopsch.DQ\",\"signature_sequence\":2,\"variate\":null,\"value\":null},{\"signature\":\"bot.FZ\",\"signature_sequence\":2,\"variate\":null,\"value\":null},{\"signature\":\"sch.FC\",\"signature_sequence\":2,\"variate\":null,\"value\":null},{\"signature\":\"bi.IF\",\"signature_sequence\":1,\"variate\":null,\"value\":null},{\"signature\":\"ord.IX\",\"signature_sequence\":1,\"variate\":null,\"value\":null},{\"signature\":\"sch.FW\",\"signature_sequence\":4,\"variate\":null,\"value\":null},{\"signature\":\"fee.CA\",\"signature_sequence\":0,\"variate\":null,\"value\":null},{\"signature\":\"ls.FK\",\"signature_sequence\":2,\"variate\":null,\"value\":null},{\"signature\":\"sch.EY\",\"signature_sequence\":0,\"variate\":null,\"value\":null},{\"signature\":\"ord.FE\",\"signature_sequence\":1,\"variate\":null,\"value\":null},{\"signature\":\"bot.HR\",\"signature_sequence\":1,\"variate\":null,\"value\":null},{\"signature\":\"sch.DF\",\"signature_sequence\":0,\"variate\":null,\"value\":null},{\"signature\":\"foodsch.KP\",\"signature_sequence\":2,\"variate\":null,\"value\":null},{\"signature\":\"sch.FB\",\"signature_sequence\":6,\"variate\":null,\"value\":null}],\"complete_signature\":\"0.a.967@BYDMIOGWFMGCGLDNBZKVGBGTIWCGGDEMGAFQERGUFIBSDRGKDJEZFGIZGFCAANHHKCHJAJCBEIIJEVGNFSINDOIPFRGECFHIHXBBEYGQDFGGDTJOICIL0DKIHHRKQEUAQKGBWFPFEHQDYKIHDIGAYIEIVFLECCKIXCJDSHSHTBADGHEBXHBIFEBJZFJ1KPHPEHDQFKCNHAGYITKHENESFCKBHNKFGVFZEGDVETHMCMKMGHHOEP2GRHG3FVFYGIDPFXFNFWGPIR4FHID5FB6DZIB8EA10DX18GO108\"},\"error\":null}'"
      ]
     },
     "execution_count": 13,
     "metadata": {},
     "output_type": "execute_result"
    }
   ],
   "source": [
    "import requests as rq\n",
    "\n",
    "url = 'https://shopee.tw/api/v4/deep_platform/ab_test/get_all_variates?project_numbers=0'\n",
    "r = rq.get(url)\n",
    "response = r.text\n",
    "r.text"
   ]
  },
  {
   "cell_type": "markdown",
   "metadata": {},
   "source": [
    "### 用上述網站說明該如何判斷 Header 中必須加上哪些資料才會正確\n"
   ]
  },
  {
   "cell_type": "code",
   "execution_count": 12,
   "metadata": {},
   "outputs": [
    {
     "data": {
      "text/plain": [
       "'404 page not found'"
      ]
     },
     "execution_count": 12,
     "metadata": {},
     "output_type": "execute_result"
    }
   ],
   "source": [
    "import requests as rq\n",
    "\n",
    "url = 'https://c-api-bit.shopeemobile.com/tw/tr'\n",
    "headers = {'user-agent': 'Mozilla/5.0 (Windows NT 10.0; Win64; x64) AppleWebKit/537.36 (KHTML, like Gecko) Chrome/92.0.4515.159 Safari/537.36'}\n",
    "r = rq.get(url, headers=headers)\n",
    "response = r.text\n",
    "r.text"
   ]
  },
  {
   "cell_type": "code",
   "execution_count": null,
   "metadata": {},
   "outputs": [],
   "source": []
  }
 ],
 "metadata": {
  "kernelspec": {
   "display_name": "Python 3",
   "language": "python",
   "name": "python3"
  },
  "language_info": {
   "codemirror_mode": {
    "name": "ipython",
    "version": 3
   },
   "file_extension": ".py",
   "mimetype": "text/x-python",
   "name": "python",
   "nbconvert_exporter": "python",
   "pygments_lexer": "ipython3",
   "version": "3.8.8"
  }
 },
 "nbformat": 4,
 "nbformat_minor": 2
}
